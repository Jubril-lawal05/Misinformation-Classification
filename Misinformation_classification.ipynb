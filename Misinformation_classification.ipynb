{
 "cells": [
  {
   "cell_type": "markdown",
   "id": "75b90f7e",
   "metadata": {},
   "source": [
    "# Misinformation Classification\n",
    "Ayomide Lawal"
   ]
  },
  {
   "cell_type": "markdown",
   "id": "7add182c",
   "metadata": {},
   "source": [
    "## Introduction\n",
    "The dataset used for this project is sourced from Kaggle and focuses on the classification of misinformation or fake news. The dataset contains information crucial for determining the authenticity of news articles, including text content, metadata, and labels indicating whether an article is fake or real.\n",
    "\n",
    "\n",
    "Misinformation, also known as fake news, is false or inaccurate information spread, regardless of intent to mislead. It can have serious consequences, such as influencing public opinion, spreading fear and panic, and even inciting violence. In today's digital age, social networks have become a primary medium for the rapid spread of misinformation, reaching millions of people within minutes.\n",
    "\n",
    "In this analysis, the goal is to develop a model capable of accurately classifying news articles as either fake or real based on the provided data. The dataset's features, such as text content and metadata, will be utilized to train machine learning models, enabling them to distinguish between genuine and misleading information. This project aims to contribute to the identification and mitigation of misinformation, which is increasingly prevalent in today's digital age.\n",
    "https://www.kaggle.com/datasets/ruchi798/source-based-news-classification/data#"
   ]
  },
  {
   "cell_type": "code",
   "execution_count": 21,
   "id": "6a640be2",
   "metadata": {},
   "outputs": [],
   "source": [
    "import pandas as pd\n",
    "import numpy as np\n",
    "import nltk\n",
    "from nltk.corpus import stopwords\n",
    "from nltk.stem import WordNetLemmatizer\n",
    "from nltk.stem import PorterStemmer\n",
    "from nltk.tokenize import word_tokenize\n",
    "from sklearn.model_selection import train_test_split\n",
    "from sklearn.feature_extraction.text import TfidfVectorizer\n",
    "from sklearn.preprocessing import LabelEncoder\n",
    "from sklearn.linear_model import LogisticRegression\n",
    "from sklearn.tree import DecisionTreeClassifier\n",
    "from sklearn.ensemble import RandomForestClassifier\n",
    "from sklearn.model_selection import GridSearchCV\n",
    "from sklearn.metrics import roc_curve, roc_auc_score\n",
    "from sklearn.metrics import classification_report, confusion_matrix, accuracy_score\n",
    "from sklearn.model_selection import StratifiedKFold\n",
    "from sklearn.ensemble import RandomForestClassifier\n",
    "from sklearn import metrics\n",
    "from sklearn.pipeline import Pipeline\n",
    "from sklearn.svm import SVC\n",
    "from sklearn.naive_bayes import MultinomialNB\n",
    "from sklearn.metrics import precision_score, recall_score, f1_score\n",
    "import random\n",
    "import matplotlib.pyplot as plt\n",
    "import seaborn as sns\n",
    "import plotly.graph_objects as go\n"
   ]
  },
  {
   "cell_type": "code",
   "execution_count": null,
   "id": "dd787041",
   "metadata": {},
   "outputs": [],
   "source": []
  },
  {
   "cell_type": "code",
   "execution_count": 4,
   "id": "adf4d7b2",
   "metadata": {},
   "outputs": [
    {
     "name": "stdout",
     "output_type": "stream",
     "text": [
      "(2096, 12)\n"
     ]
    },
    {
     "data": {
      "text/html": [
       "<div>\n",
       "<style scoped>\n",
       "    .dataframe tbody tr th:only-of-type {\n",
       "        vertical-align: middle;\n",
       "    }\n",
       "\n",
       "    .dataframe tbody tr th {\n",
       "        vertical-align: top;\n",
       "    }\n",
       "\n",
       "    .dataframe thead th {\n",
       "        text-align: right;\n",
       "    }\n",
       "</style>\n",
       "<table border=\"1\" class=\"dataframe\">\n",
       "  <thead>\n",
       "    <tr style=\"text-align: right;\">\n",
       "      <th></th>\n",
       "      <th>author</th>\n",
       "      <th>title</th>\n",
       "      <th>text</th>\n",
       "      <th>language</th>\n",
       "      <th>label</th>\n",
       "      <th>title_without_stopwords</th>\n",
       "      <th>text_without_stopwords</th>\n",
       "      <th>hasImage</th>\n",
       "    </tr>\n",
       "  </thead>\n",
       "  <tbody>\n",
       "    <tr>\n",
       "      <th>0</th>\n",
       "      <td>Barracuda Brigade</td>\n",
       "      <td>muslims busted they stole millions in govt ben...</td>\n",
       "      <td>print they should pay all the back all the mon...</td>\n",
       "      <td>english</td>\n",
       "      <td>Real</td>\n",
       "      <td>muslims busted stole millions govt benefits</td>\n",
       "      <td>print pay back money plus interest entire fami...</td>\n",
       "      <td>1.0</td>\n",
       "    </tr>\n",
       "    <tr>\n",
       "      <th>1</th>\n",
       "      <td>reasoning with facts</td>\n",
       "      <td>re why did attorney general loretta lynch plea...</td>\n",
       "      <td>why did attorney general loretta lynch plead t...</td>\n",
       "      <td>english</td>\n",
       "      <td>Real</td>\n",
       "      <td>attorney general loretta lynch plead fifth</td>\n",
       "      <td>attorney general loretta lynch plead fifth bar...</td>\n",
       "      <td>1.0</td>\n",
       "    </tr>\n",
       "    <tr>\n",
       "      <th>2</th>\n",
       "      <td>Barracuda Brigade</td>\n",
       "      <td>breaking weiner cooperating with fbi on hillar...</td>\n",
       "      <td>red state  \\nfox news sunday reported this mor...</td>\n",
       "      <td>english</td>\n",
       "      <td>Real</td>\n",
       "      <td>breaking weiner cooperating fbi hillary email ...</td>\n",
       "      <td>red state fox news sunday reported morning ant...</td>\n",
       "      <td>1.0</td>\n",
       "    </tr>\n",
       "    <tr>\n",
       "      <th>3</th>\n",
       "      <td>Fed Up</td>\n",
       "      <td>pin drop speech by father of daughter kidnappe...</td>\n",
       "      <td>email kayla mueller was a prisoner and torture...</td>\n",
       "      <td>english</td>\n",
       "      <td>Real</td>\n",
       "      <td>pin drop speech father daughter kidnapped kill...</td>\n",
       "      <td>email kayla mueller prisoner tortured isis cha...</td>\n",
       "      <td>1.0</td>\n",
       "    </tr>\n",
       "    <tr>\n",
       "      <th>4</th>\n",
       "      <td>Fed Up</td>\n",
       "      <td>fantastic trumps  point plan to reform healthc...</td>\n",
       "      <td>email healthcare reform to make america great ...</td>\n",
       "      <td>english</td>\n",
       "      <td>Real</td>\n",
       "      <td>fantastic trumps point plan reform healthcare ...</td>\n",
       "      <td>email healthcare reform make america great sin...</td>\n",
       "      <td>1.0</td>\n",
       "    </tr>\n",
       "    <tr>\n",
       "      <th>...</th>\n",
       "      <td>...</td>\n",
       "      <td>...</td>\n",
       "      <td>...</td>\n",
       "      <td>...</td>\n",
       "      <td>...</td>\n",
       "      <td>...</td>\n",
       "      <td>...</td>\n",
       "      <td>...</td>\n",
       "    </tr>\n",
       "    <tr>\n",
       "      <th>2041</th>\n",
       "      <td>Matt Barber</td>\n",
       "      <td>why never trumpers must reconsider</td>\n",
       "      <td>prof canoes reek of genocide white privilege c...</td>\n",
       "      <td>english</td>\n",
       "      <td>Real</td>\n",
       "      <td>trump vs clinton risk vs disaster</td>\n",
       "      <td>check hillarythemed haunted house anticlinton ...</td>\n",
       "      <td>0.0</td>\n",
       "    </tr>\n",
       "    <tr>\n",
       "      <th>2042</th>\n",
       "      <td>Jane Chastain</td>\n",
       "      <td>election crossroads socialism or capitalism</td>\n",
       "      <td>teens walk free after gangrape conviction judg...</td>\n",
       "      <td>english</td>\n",
       "      <td>Real</td>\n",
       "      <td>gingrich slutshames megyn kelly</td>\n",
       "      <td>good samaritan wearing indian headdress disarm...</td>\n",
       "      <td>1.0</td>\n",
       "    </tr>\n",
       "    <tr>\n",
       "      <th>2043</th>\n",
       "      <td>Michael Brown</td>\n",
       "      <td>reasons ill vote for trump</td>\n",
       "      <td>school named for munichmassacre mastermind ter...</td>\n",
       "      <td>english</td>\n",
       "      <td>Real</td>\n",
       "      <td>youtube bans clintons black son</td>\n",
       "      <td>skype sex scam fortune built shame moroccan bo...</td>\n",
       "      <td>1.0</td>\n",
       "    </tr>\n",
       "    <tr>\n",
       "      <th>2044</th>\n",
       "      <td>Ann Coulter</td>\n",
       "      <td>our new country women and minorities hit hardest</td>\n",
       "      <td>wars and rumors of wars russia unveils satan  ...</td>\n",
       "      <td>english</td>\n",
       "      <td>Real</td>\n",
       "      <td>wikileaks bombshells hillary need know</td>\n",
       "      <td>posted eddie skyhigh potency may scare away cr...</td>\n",
       "      <td>1.0</td>\n",
       "    </tr>\n",
       "    <tr>\n",
       "      <th>2045</th>\n",
       "      <td>Larry Elder</td>\n",
       "      <td>trump vs clinton a risk vs a disaster</td>\n",
       "      <td>check out hillarythemed haunted house anticlin...</td>\n",
       "      <td>english</td>\n",
       "      <td>Real</td>\n",
       "      <td>fascinated sex</td>\n",
       "      <td>billion even known keeping supposedly deleted ...</td>\n",
       "      <td>0.0</td>\n",
       "    </tr>\n",
       "  </tbody>\n",
       "</table>\n",
       "<p>2045 rows × 8 columns</p>\n",
       "</div>"
      ],
      "text/plain": [
       "                    author                                              title  \\\n",
       "0        Barracuda Brigade  muslims busted they stole millions in govt ben...   \n",
       "1     reasoning with facts  re why did attorney general loretta lynch plea...   \n",
       "2        Barracuda Brigade  breaking weiner cooperating with fbi on hillar...   \n",
       "3                   Fed Up  pin drop speech by father of daughter kidnappe...   \n",
       "4                   Fed Up  fantastic trumps  point plan to reform healthc...   \n",
       "...                    ...                                                ...   \n",
       "2041           Matt Barber                 why never trumpers must reconsider   \n",
       "2042         Jane Chastain        election crossroads socialism or capitalism   \n",
       "2043         Michael Brown                         reasons ill vote for trump   \n",
       "2044           Ann Coulter   our new country women and minorities hit hardest   \n",
       "2045           Larry Elder              trump vs clinton a risk vs a disaster   \n",
       "\n",
       "                                                   text language label  \\\n",
       "0     print they should pay all the back all the mon...  english  Real   \n",
       "1     why did attorney general loretta lynch plead t...  english  Real   \n",
       "2     red state  \\nfox news sunday reported this mor...  english  Real   \n",
       "3     email kayla mueller was a prisoner and torture...  english  Real   \n",
       "4     email healthcare reform to make america great ...  english  Real   \n",
       "...                                                 ...      ...   ...   \n",
       "2041  prof canoes reek of genocide white privilege c...  english  Real   \n",
       "2042  teens walk free after gangrape conviction judg...  english  Real   \n",
       "2043  school named for munichmassacre mastermind ter...  english  Real   \n",
       "2044  wars and rumors of wars russia unveils satan  ...  english  Real   \n",
       "2045  check out hillarythemed haunted house anticlin...  english  Real   \n",
       "\n",
       "                                title_without_stopwords  \\\n",
       "0           muslims busted stole millions govt benefits   \n",
       "1            attorney general loretta lynch plead fifth   \n",
       "2     breaking weiner cooperating fbi hillary email ...   \n",
       "3     pin drop speech father daughter kidnapped kill...   \n",
       "4     fantastic trumps point plan reform healthcare ...   \n",
       "...                                                 ...   \n",
       "2041                  trump vs clinton risk vs disaster   \n",
       "2042                    gingrich slutshames megyn kelly   \n",
       "2043                    youtube bans clintons black son   \n",
       "2044             wikileaks bombshells hillary need know   \n",
       "2045                                     fascinated sex   \n",
       "\n",
       "                                 text_without_stopwords  hasImage  \n",
       "0     print pay back money plus interest entire fami...       1.0  \n",
       "1     attorney general loretta lynch plead fifth bar...       1.0  \n",
       "2     red state fox news sunday reported morning ant...       1.0  \n",
       "3     email kayla mueller prisoner tortured isis cha...       1.0  \n",
       "4     email healthcare reform make america great sin...       1.0  \n",
       "...                                                 ...       ...  \n",
       "2041  check hillarythemed haunted house anticlinton ...       0.0  \n",
       "2042  good samaritan wearing indian headdress disarm...       1.0  \n",
       "2043  skype sex scam fortune built shame moroccan bo...       1.0  \n",
       "2044  posted eddie skyhigh potency may scare away cr...       1.0  \n",
       "2045  billion even known keeping supposedly deleted ...       0.0  \n",
       "\n",
       "[2045 rows x 8 columns]"
      ]
     },
     "execution_count": 4,
     "metadata": {},
     "output_type": "execute_result"
    }
   ],
   "source": [
    "df = pd.read_csv('news_articles.csv', sep=',')\n",
    "\n",
    "print(df.shape)\n",
    "df = df.dropna()\n",
    "df.drop([ 'published', 'site_url', 'main_img_url', 'type'], axis=1, inplace=True)\n",
    "df"
   ]
  },
  {
   "cell_type": "code",
   "execution_count": 5,
   "id": "c988e1ff",
   "metadata": {},
   "outputs": [
    {
     "data": {
      "image/png": "[encoded data removed]",
      "text/plain": [
       "<Figure size 576x576 with 1 Axes>"
      ]
     },
     "metadata": {},
     "output_type": "display_data"
    }
   ],
   "source": [
    "# Calculate the distribution of the 'label' column\n",
    "label_counts = df['label'].value_counts()\n",
    "\n",
    "plt.figure(figsize=(8, 8))\n",
    "plt.pie(label_counts, labels=label_counts.index, autopct='%1.1f%%', startangle=90)\n",
    "plt.title('Target Distribution')\n",
    "plt.show()"
   ]
  },
  {
   "cell_type": "code",
   "execution_count": 6,
   "id": "ed85a640",
   "metadata": {},
   "outputs": [
    {
     "data": {
      "image/png": "[encoded data removed]",
      "text/plain": [
       "<Figure size 864x432 with 1 Axes>"
      ]
     },
     "metadata": {
      "needs_background": "light"
     },
     "output_type": "display_data"
    }
   ],
   "source": [
    "# Bar Chart: Distribution of articles by author\n",
    "author_counts = df['author'].value_counts().head(10)\n",
    "plt.figure(figsize=(12, 6))\n",
    "author_counts.plot(kind='bar')\n",
    "plt.title('Top 10 Authors by Number of Articles')\n",
    "plt.xlabel('Author')\n",
    "plt.ylabel('Number of Articles')\n",
    "plt.xticks(rotation=45)\n",
    "plt.show()"
   ]
  },
  {
   "cell_type": "code",
   "execution_count": 7,
   "id": "a4448e11",
   "metadata": {},
   "outputs": [
    {
     "data": {
      "image/png": "[encoded data removed]",
      "text/plain": [
       "<Figure size 720x432 with 1 Axes>"
      ]
     },
     "metadata": {
      "needs_background": "light"
     },
     "output_type": "display_data"
    }
   ],
   "source": [
    "article_lengths = df['text_without_stopwords'].apply(lambda x: len(x.split()))\n",
    "plt.figure(figsize=(10, 6))\n",
    "plt.hist(article_lengths, bins=50, color='skyblue', edgecolor='black')\n",
    "plt.title('Distribution of Article Lengths')\n",
    "plt.xlabel('Length of Article')\n",
    "plt.ylabel('Count')\n",
    "plt.show()\n"
   ]
  },
  {
   "cell_type": "code",
   "execution_count": 8,
   "id": "bd832c11",
   "metadata": {},
   "outputs": [],
   "source": [
    "X = df['text_without_stopwords']\n",
    "y = df['label']"
   ]
  },
  {
   "cell_type": "code",
   "execution_count": 9,
   "id": "3100d93b",
   "metadata": {},
   "outputs": [],
   "source": [
    "X_train, X_test, y_train, y_test = train_test_split(X, y, test_size=0.3, random_state=42)"
   ]
  },
  {
   "cell_type": "code",
   "execution_count": 10,
   "id": "f049ff20",
   "metadata": {},
   "outputs": [],
   "source": [
    "vectorizer = TfidfVectorizer(max_features=5000)\n",
    "X_train_vect = vectorizer.fit_transform(X_train)\n",
    "X_test_vect = vectorizer.transform(X_test)"
   ]
  },
  {
   "cell_type": "code",
   "execution_count": 11,
   "id": "022fd513",
   "metadata": {},
   "outputs": [
    {
     "name": "stdout",
     "output_type": "stream",
     "text": [
      "Logistic Regression Accuracy: 0.7214983713355049\n",
      "              precision    recall  f1-score   support\n",
      "\n",
      "        Fake       0.72      0.94      0.82       405\n",
      "        Real       0.72      0.30      0.42       209\n",
      "\n",
      "    accuracy                           0.72       614\n",
      "   macro avg       0.72      0.62      0.62       614\n",
      "weighted avg       0.72      0.72      0.68       614\n",
      "\n"
     ]
    }
   ],
   "source": [
    "# Logistic Regression model\n",
    "lr_model = LogisticRegression()\n",
    "lr_model.fit(X_train_vect, y_train)\n",
    "lr_pred = lr_model.predict(X_test_vect)\n",
    "lr_accuracy = accuracy_score(y_test, lr_pred)\n",
    "print(\"Logistic Regression Accuracy:\", lr_accuracy)\n",
    "print(classification_report(y_test, lr_pred))"
   ]
  },
  {
   "cell_type": "code",
   "execution_count": 12,
   "id": "7a62a4f5",
   "metadata": {},
   "outputs": [],
   "source": [
    "param_grid = {'C': [0.001, 0.01, 0.1, 1, 10, 100],\n",
    "              'penalty': ['l1', 'l2']}"
   ]
  },
  {
   "cell_type": "code",
   "execution_count": 13,
   "id": "59f52c82",
   "metadata": {},
   "outputs": [],
   "source": [
    "grid_search = GridSearchCV(LogisticRegression(), param_grid, cv=5, n_jobs=-1)"
   ]
  },
  {
   "cell_type": "code",
   "execution_count": 14,
   "id": "567c5db9",
   "metadata": {},
   "outputs": [
    {
     "name": "stderr",
     "output_type": "stream",
     "text": [
      "/usr/local/lib/python3.8/dist-packages/sklearn/model_selection/_validation.py:425: FitFailedWarning: \n",
      "30 fits failed out of a total of 60.\n",
      "The score on these train-test partitions for these parameters will be set to nan.\n",
      "If these failures are not expected, you can try to debug them by setting error_score='raise'.\n",
      "\n",
      "Below are more details about the failures:\n",
      "--------------------------------------------------------------------------------\n",
      "30 fits failed with the following error:\n",
      "Traceback (most recent call last):\n",
      "  File \"/usr/local/lib/python3.8/dist-packages/sklearn/model_selection/_validation.py\", line 729, in _fit_and_score\n",
      "    estimator.fit(X_train, y_train, **fit_params)\n",
      "  File \"/usr/local/lib/python3.8/dist-packages/sklearn/base.py\", line 1152, in wrapper\n",
      "    return fit_method(estimator, *args, **kwargs)\n",
      "  File \"/usr/local/lib/python3.8/dist-packages/sklearn/linear_model/_logistic.py\", line 1169, in fit\n",
      "    solver = _check_solver(self.solver, self.penalty, self.dual)\n",
      "  File \"/usr/local/lib/python3.8/dist-packages/sklearn/linear_model/_logistic.py\", line 56, in _check_solver\n",
      "    raise ValueError(\n",
      "ValueError: Solver lbfgs supports only 'l2' or 'none' penalties, got l1 penalty.\n",
      "\n",
      "  warnings.warn(some_fits_failed_message, FitFailedWarning)\n",
      "/usr/local/lib/python3.8/dist-packages/sklearn/model_selection/_search.py:979: UserWarning: One or more of the test scores are non-finite: [       nan 0.61914671        nan 0.61914671        nan 0.61984601\n",
      "        nan 0.70022173        nan 0.72048439        nan 0.7121074 ]\n",
      "  warnings.warn(\n"
     ]
    },
    {
     "data": {
      "text/html": [
       "<style>#sk-container-id-1 {color: black;}#sk-container-id-1 pre{padding: 0;}#sk-container-id-1 div.sk-toggleable {background-color: white;}#sk-container-id-1 label.sk-toggleable__label {cursor: pointer;display: block;width: 100%;margin-bottom: 0;padding: 0.3em;box-sizing: border-box;text-align: center;}#sk-container-id-1 label.sk-toggleable__label-arrow:before {content: \"▸\";float: left;margin-right: 0.25em;color: #696969;}#sk-container-id-1 label.sk-toggleable__label-arrow:hover:before {color: black;}#sk-container-id-1 div.sk-estimator:hover label.sk-toggleable__label-arrow:before {color: black;}#sk-container-id-1 div.sk-toggleable__content {max-height: 0;max-width: 0;overflow: hidden;text-align: left;background-color: #f0f8ff;}#sk-container-id-1 div.sk-toggleable__content pre {margin: 0.2em;color: black;border-radius: 0.25em;background-color: #f0f8ff;}#sk-container-id-1 input.sk-toggleable__control:checked~div.sk-toggleable__content {max-height: 200px;max-width: 100%;overflow: auto;}#sk-container-id-1 input.sk-toggleable__control:checked~label.sk-toggleable__label-arrow:before {content: \"▾\";}#sk-container-id-1 div.sk-estimator input.sk-toggleable__control:checked~label.sk-toggleable__label {background-color: #d4ebff;}#sk-container-id-1 div.sk-label input.sk-toggleable__control:checked~label.sk-toggleable__label {background-color: #d4ebff;}#sk-container-id-1 input.sk-hidden--visually {border: 0;clip: rect(1px 1px 1px 1px);clip: rect(1px, 1px, 1px, 1px);height: 1px;margin: -1px;overflow: hidden;padding: 0;position: absolute;width: 1px;}#sk-container-id-1 div.sk-estimator {font-family: monospace;background-color: #f0f8ff;border: 1px dotted black;border-radius: 0.25em;box-sizing: border-box;margin-bottom: 0.5em;}#sk-container-id-1 div.sk-estimator:hover {background-color: #d4ebff;}#sk-container-id-1 div.sk-parallel-item::after {content: \"\";width: 100%;border-bottom: 1px solid gray;flex-grow: 1;}#sk-container-id-1 div.sk-label:hover label.sk-toggleable__label {background-color: #d4ebff;}#sk-container-id-1 div.sk-serial::before {content: \"\";position: absolute;border-left: 1px solid gray;box-sizing: border-box;top: 0;bottom: 0;left: 50%;z-index: 0;}#sk-container-id-1 div.sk-serial {display: flex;flex-direction: column;align-items: center;background-color: white;padding-right: 0.2em;padding-left: 0.2em;position: relative;}#sk-container-id-1 div.sk-item {position: relative;z-index: 1;}#sk-container-id-1 div.sk-parallel {display: flex;align-items: stretch;justify-content: center;background-color: white;position: relative;}#sk-container-id-1 div.sk-item::before, #sk-container-id-1 div.sk-parallel-item::before {content: \"\";position: absolute;border-left: 1px solid gray;box-sizing: border-box;top: 0;bottom: 0;left: 50%;z-index: -1;}#sk-container-id-1 div.sk-parallel-item {display: flex;flex-direction: column;z-index: 1;position: relative;background-color: white;}#sk-container-id-1 div.sk-parallel-item:first-child::after {align-self: flex-end;width: 50%;}#sk-container-id-1 div.sk-parallel-item:last-child::after {align-self: flex-start;width: 50%;}#sk-container-id-1 div.sk-parallel-item:only-child::after {width: 0;}#sk-container-id-1 div.sk-dashed-wrapped {border: 1px dashed gray;margin: 0 0.4em 0.5em 0.4em;box-sizing: border-box;padding-bottom: 0.4em;background-color: white;}#sk-container-id-1 div.sk-label label {font-family: monospace;font-weight: bold;display: inline-block;line-height: 1.2em;}#sk-container-id-1 div.sk-label-container {text-align: center;}#sk-container-id-1 div.sk-container {/* jupyter's `normalize.less` sets `[hidden] { display: none; }` but bootstrap.min.css set `[hidden] { display: none !important; }` so we also need the `!important` here to be able to override the default hidden behavior on the sphinx rendered scikit-learn.org. See: https://github.com/scikit-learn/scikit-learn/issues/21755 */display: inline-block !important;position: relative;}#sk-container-id-1 div.sk-text-repr-fallback {display: none;}</style><div id=\"sk-container-id-1\" class=\"sk-top-container\"><div class=\"sk-text-repr-fallback\"><pre>GridSearchCV(cv=5, estimator=LogisticRegression(), n_jobs=-1,\n",
       "             param_grid={&#x27;C&#x27;: [0.001, 0.01, 0.1, 1, 10, 100],\n",
       "                         &#x27;penalty&#x27;: [&#x27;l1&#x27;, &#x27;l2&#x27;]})</pre><b>In a Jupyter environment, please rerun this cell to show the HTML representation or trust the notebook. <br />On GitHub, the HTML representation is unable to render, please try loading this page with nbviewer.org.</b></div><div class=\"sk-container\" hidden><div class=\"sk-item sk-dashed-wrapped\"><div class=\"sk-label-container\"><div class=\"sk-label sk-toggleable\"><input class=\"sk-toggleable__control sk-hidden--visually\" id=\"sk-estimator-id-1\" type=\"checkbox\" ><label for=\"sk-estimator-id-1\" class=\"sk-toggleable__label sk-toggleable__label-arrow\">GridSearchCV</label><div class=\"sk-toggleable__content\"><pre>GridSearchCV(cv=5, estimator=LogisticRegression(), n_jobs=-1,\n",
       "             param_grid={&#x27;C&#x27;: [0.001, 0.01, 0.1, 1, 10, 100],\n",
       "                         &#x27;penalty&#x27;: [&#x27;l1&#x27;, &#x27;l2&#x27;]})</pre></div></div></div><div class=\"sk-parallel\"><div class=\"sk-parallel-item\"><div class=\"sk-item\"><div class=\"sk-label-container\"><div class=\"sk-label sk-toggleable\"><input class=\"sk-toggleable__control sk-hidden--visually\" id=\"sk-estimator-id-2\" type=\"checkbox\" ><label for=\"sk-estimator-id-2\" class=\"sk-toggleable__label sk-toggleable__label-arrow\">estimator: LogisticRegression</label><div class=\"sk-toggleable__content\"><pre>LogisticRegression()</pre></div></div></div><div class=\"sk-serial\"><div class=\"sk-item\"><div class=\"sk-estimator sk-toggleable\"><input class=\"sk-toggleable__control sk-hidden--visually\" id=\"sk-estimator-id-3\" type=\"checkbox\" ><label for=\"sk-estimator-id-3\" class=\"sk-toggleable__label sk-toggleable__label-arrow\">LogisticRegression</label><div class=\"sk-toggleable__content\"><pre>LogisticRegression()</pre></div></div></div></div></div></div></div></div></div></div>"
      ],
      "text/plain": [
       "GridSearchCV(cv=5, estimator=LogisticRegression(), n_jobs=-1,\n",
       "             param_grid={'C': [0.001, 0.01, 0.1, 1, 10, 100],\n",
       "                         'penalty': ['l1', 'l2']})"
      ]
     },
     "execution_count": 14,
     "metadata": {},
     "output_type": "execute_result"
    }
   ],
   "source": [
    "grid_search.fit(X_train_vect, y_train)"
   ]
  },
  {
   "cell_type": "code",
   "execution_count": 15,
   "id": "02d9857f",
   "metadata": {},
   "outputs": [
    {
     "name": "stdout",
     "output_type": "stream",
     "text": [
      "Best Hyperparameters: {'C': 10, 'penalty': 'l2'}\n"
     ]
    }
   ],
   "source": [
    "best_params = grid_search.best_params_\n",
    "print(\"Best Hyperparameters:\", best_params)"
   ]
  },
  {
   "cell_type": "code",
   "execution_count": 17,
   "id": "8b1e84ba",
   "metadata": {},
   "outputs": [],
   "source": [
    "le = LabelEncoder()\n",
    "y_test_encoded = le.fit_transform(y_test)\n",
    "lr_pred_encoded = le.transform(lr_pred)"
   ]
  },
  {
   "cell_type": "code",
   "execution_count": 19,
   "id": "b66c2f1a",
   "metadata": {},
   "outputs": [
    {
     "data": {
      "image/png": "[encoded data removed]",
      "text/plain": [
       "<Figure size 576x432 with 1 Axes>"
      ]
     },
     "metadata": {
      "needs_background": "light"
     },
     "output_type": "display_data"
    }
   ],
   "source": [
    "lr_probs = lr_model.predict_proba(X_test_vect)[:, 1]\n",
    "fpr, tpr, thresholds = roc_curve(y_test_encoded,lr_model.predict_proba(X_test_vect)[:,1])\n",
    "plt.figure(figsize=(8, 6))\n",
    "plt.plot(fpr, tpr, label='ROC Curve (AUC = {:.2f})'.format(roc_auc_score(y_test_encoded,lr_model.predict_proba(X_test_vect)[:,1])))\n",
    "plt.plot([0, 1], [0, 1], 'k--')\n",
    "plt.xlim([0.0, 1.0])\n",
    "plt.ylim([0.0, 1.05])\n",
    "plt.xlabel('False Positive Rate')\n",
    "plt.ylabel('True Positive Rate')\n",
    "plt.title('Receiver Operating Characteristic (ROC) Curve')\n",
    "plt.legend(loc='lower right')\n",
    "plt.show()\n"
   ]
  },
  {
   "cell_type": "markdown",
   "id": "920fe07b",
   "metadata": {},
   "source": [
    "# Random Forest"
   ]
  },
  {
   "cell_type": "code",
   "execution_count": 88,
   "id": "4914c817",
   "metadata": {},
   "outputs": [
    {
     "name": "stdout",
     "output_type": "stream",
     "text": [
      "Average Accuracy: 0.7662591687041566 with 500 trees\n",
      "Average Accuracy: 0.767726161369193 with 1000 trees\n",
      "Average Accuracy: 0.7731051344743276 with 2000 trees\n"
     ]
    }
   ],
   "source": [
    "#random.seed(731)\n",
    "#num_trees = [500, 1000, 2000]  # hyperparameters to test\n",
    "#skf = StratifiedKFold(n_splits=5, shuffle=True)  # 5-fold\n",
    "#for param in num_trees:\n",
    "    #error = []\n",
    "   # for train_index, test_index in skf.split(df['text_without_stopwords'], df['label']):\n",
    "       # X_train, X_test = df.iloc[train_index]['text_without_stopwords'], df.iloc[test_index]['text_without_stopwords']\n",
    "        #y_train, y_test = df.iloc[train_index]['label'], df.iloc[test_index]['label']\n",
    "\n",
    "        # Vectorize the text data\n",
    "       # X_train_vect = vectorizer.transform(X_train)\n",
    "        #X_test_vect = vectorizer.transform(X_test)\n",
    "\n",
    "        # Initialize Random Forest model\n",
    "       # rf_mod = RandomForestClassifier(n_estimators=param)\n",
    "\n",
    "       # rf_mod.fit(X_train_vect, y_train)\n",
    "\n",
    "        # Make predictions\n",
    "       # y_pred = rf_mod.predict(X_test_vect)\n",
    "\n",
    "        # Calculate accuracy and append to error list\n",
    "       # error.append(accuracy_score(y_test, y_pred))\n",
    "\n",
    "    # Calculate and print average accuracy for current hyperparameter\n",
    "   # print(\"Average Accuracy:\", np.mean(error), \"with\", param, \"trees\") \n"
   ]
  },
  {
   "cell_type": "code",
   "execution_count": 25,
   "id": "28fcbb46",
   "metadata": {},
   "outputs": [
    {
     "name": "stdout",
     "output_type": "stream",
     "text": [
      "Accuracy: 0.7866449511400652\n",
      "Classification Report:\n",
      "              precision    recall  f1-score   support\n",
      "\n",
      "        Fake       0.79      0.92      0.85       405\n",
      "        Real       0.77      0.53      0.63       209\n",
      "\n",
      "    accuracy                           0.79       614\n",
      "   macro avg       0.78      0.72      0.74       614\n",
      "weighted avg       0.78      0.79      0.77       614\n",
      "\n",
      "Confusion Matrix:\n",
      "[[373  32]\n",
      " [ 99 110]]\n"
     ]
    }
   ],
   "source": [
    "\n",
    "X = df['text_without_stopwords']\n",
    "y = df['label']\n",
    "\n",
    "X_train, X_test, y_train, y_test = train_test_split(X, y, test_size=0.3, random_state=42)\n",
    "\n",
    "vectorizer = TfidfVectorizer(max_features=8000)\n",
    "X_train_tfidf = vectorizer.fit_transform(X_train)\n",
    "X_test_tfidf = vectorizer.transform(X_test)\n",
    "\n",
    "rf_model = RandomForestClassifier(n_estimators=100, random_state=42)\n",
    "rf_model.fit(X_train_tfidf, y_train)\n",
    "\n",
    "y_pred = rf_model.predict(X_test_tfidf)\n",
    "\n",
    "print(\"Accuracy:\", accuracy_score(y_test, y_pred))\n",
    "print(\"Classification Report:\")\n",
    "print(classification_report(y_test, y_pred))\n",
    "print(\"Confusion Matrix:\")\n",
    "print(confusion_matrix(y_test, y_pred))\n"
   ]
  },
  {
   "cell_type": "code",
   "execution_count": null,
   "id": "7d441b0a",
   "metadata": {},
   "outputs": [],
   "source": []
  },
  {
   "cell_type": "code",
   "execution_count": 135,
   "id": "25c659e2",
   "metadata": {},
   "outputs": [
    {
     "data": {
      "image/png": "[encoded data removed]",
      "text/plain": [
       "<Figure size 576x432 with 2 Axes>"
      ]
     },
     "metadata": {
      "needs_background": "light"
     },
     "output_type": "display_data"
    }
   ],
   "source": [
    "# Confusion matrix heatmap\n",
    "cm = confusion_matrix(y_test, y_pred)\n",
    "\n",
    "plt.figure(figsize=(8, 6))\n",
    "sns.heatmap(cm, annot=True, cmap='Blues', fmt='g', xticklabels=['Fake', 'Real'], yticklabels=['Fake', 'Real'])\n",
    "plt.xlabel('Predicted')\n",
    "plt.ylabel('Actual')\n",
    "plt.title('Confusion Matrix')\n",
    "plt.show()"
   ]
  },
  {
   "cell_type": "code",
   "execution_count": 120,
   "id": "82c39638",
   "metadata": {},
   "outputs": [
    {
     "name": "stdout",
     "output_type": "stream",
     "text": [
      "Fitting 5 folds for each of 9 candidates, totalling 45 fits\n",
      "Best Parameters: {'rf__n_estimators': 500, 'tfidf__max_features': 5000}\n",
      "Best Score: 0.7484564216271534\n",
      "Test Score: 0.7915309446254072\n"
     ]
    }
   ],
   "source": [
    "X_train, X_test, y_train, y_test = train_test_split(df['text'], df['label'], test_size=0.3, random_state=42)\n",
    "\n",
    "# Create a pipeline with TfidfVectorizer and RandomForestClassifier\n",
    "pipeline = Pipeline([\n",
    "    ('tfidf', TfidfVectorizer()),\n",
    "    ('rf', RandomForestClassifier())\n",
    "])\n",
    "\n",
    "# Define the parameters to search\n",
    "param_grid = {\n",
    "    'tfidf__max_features': [5000, 10000, None],\n",
    "    'rf__n_estimators': [100, 200, 500],\n",
    "}\n",
    "\n",
    "# Perform grid search with 5-fold cross-validation\n",
    "grid_search = GridSearchCV(pipeline, param_grid, cv=5, scoring='accuracy', verbose=1)\n",
    "grid_search.fit(X_train, y_train)\n",
    "\n",
    "# Get the best parameters and score\n",
    "best_params = grid_search.best_params_\n",
    "best_score = grid_search.best_score_\n",
    "\n",
    "print(\"Best Parameters:\", best_params)\n",
    "print(\"Best Score:\", best_score)\n",
    "\n",
    "# Evaluate the model on the test set\n",
    "test_score = grid_search.score(X_test, y_test)\n",
    "print(\"Test Score:\", test_score)"
   ]
  },
  {
   "cell_type": "markdown",
   "id": "e48e890d",
   "metadata": {},
   "source": [
    "# Adding more Features\n"
   ]
  },
  {
   "cell_type": "code",
   "execution_count": 25,
   "id": "1b41cca2",
   "metadata": {},
   "outputs": [
    {
     "name": "stdout",
     "output_type": "stream",
     "text": [
      "Fitting 5 folds for each of 12 candidates, totalling 60 fits\n",
      "Best Parameters: {'clf': RandomForestClassifier(random_state=42), 'tfidf__max_features': None}\n",
      "Accuracy: 0.7768729641693811\n",
      "Precision: 0.7727944381708157\n",
      "Recall: 0.7768729641693811\n",
      "F1 Score: 0.7651253435519595\n"
     ]
    }
   ],
   "source": [
    "# Text preprocessing\n",
    "stop_words = set(stopwords.words('english'))\n",
    "lemmatizer = WordNetLemmatizer()\n",
    "\n",
    "def preprocess_text(text):\n",
    "    # Tokenization of the text\n",
    "    tokens = nltk.word_tokenize(text.lower())\n",
    "    # Remove punctuation and stop words, and lemmatize the tokens\n",
    "    processed_tokens = [lemmatizer.lemmatize(token) for token in tokens if token.isalnum() and token not in stop_words]\n",
    "    return ' '.join(processed_tokens)\n",
    "\n",
    "df['text_processed'] = df['text'].apply(preprocess_text)\n",
    "\n",
    "# Additional features\n",
    "df['title_processed'] = df['title'].apply(preprocess_text)\n",
    "df['num_words'] = df['text_processed'].apply(lambda x: len(x.split()))\n",
    "df['num_unique_words'] = df['text_processed'].apply(lambda x: len(set(x.split())))\n",
    "df['num_chars'] = df['text_processed'].apply(lambda x: len(x))\n",
    "\n",
    "# Splitting the data again with the additional features\n",
    "X = df[['text_processed', 'title_processed', 'num_words', 'num_unique_words', 'num_chars',]]\n",
    "y = df['label']\n",
    "X_train, X_test, y_train, y_test = train_test_split(X, y, test_size=0.3, random_state=42)\n",
    "\n",
    "# Building a pipeline for text processing and classifier\n",
    "text_clf = Pipeline([\n",
    "    ('tfidf', TfidfVectorizer(max_features=8000)),\n",
    "    ('clf', RandomForestClassifier(random_state=42))\n",
    "])\n",
    "\n",
    "# Defining a parameter grid for GridSearchCV\n",
    "param_grid = {\n",
    "    'tfidf__max_features': [5000, 10000, None],\n",
    "    'clf': [RandomForestClassifier(random_state=42), LogisticRegression(max_iter=1000), SVC(), MultinomialNB()]\n",
    "}\n",
    "\n",
    "# Performing grid search with 5-fold cross-validation\n",
    "grid_search = GridSearchCV(text_clf, param_grid, cv=5, scoring='accuracy', verbose=1)\n",
    "grid_search.fit(X_train['text_processed'], y_train)\n",
    "\n",
    "# Get the best model and parameters\n",
    "best_text_clf = grid_search.best_estimator_\n",
    "best_params = grid_search.best_params_\n",
    "print(\"Best Parameters:\", best_params)\n",
    "\n",
    "# Evaluate the best model on the test set\n",
    "y_pred = best_text_clf.predict(X_test['text_processed'])\n",
    "accuracy = accuracy_score(y_test, y_pred)\n",
    "precision = precision_score(y_test, y_pred, average='weighted')\n",
    "recall = recall_score(y_test, y_pred, average='weighted')\n",
    "f1 = f1_score(y_test, y_pred, average='weighted')\n",
    "\n",
    "# Print the evaluation metrics\n",
    "print(\"Accuracy:\", accuracy)\n",
    "print(\"Precision:\", precision)\n",
    "print(\"Recall:\", recall)\n",
    "print(\"F1 Score:\", f1)"
   ]
  },
  {
   "cell_type": "markdown",
   "id": "cd7a1d25",
   "metadata": {},
   "source": [
    "# Conclusion"
   ]
  },
  {
   "cell_type": "markdown",
   "id": "72cfe663",
   "metadata": {},
   "source": [
    "Both models show promise in classifying misinformation, with the random forest model performing slightly better.\n",
    "\n",
    "#### Logistic Regression:\n",
    "\n",
    "Accuracy: 72.6%\n",
    "Precision and recall are better for the \"Fake\" class compared to the \"Real\" class, indicating that the model is better at identifying fake news but struggles with recall for real news.\n",
    "F1-score is higher for the \"Fake\" class, indicating a better balance between precision and recall for fake news classification.\n",
    "Overall, the logistic regression model shows moderate performance but could benefit from improvement, especially in recall for the \"Real\" class.\n",
    "\n",
    "#### Random Forest:\n",
    "\n",
    "Accuracy: 78.7%\n",
    "Precision and recall are reasonably balanced for both classes, with slightly better performance for the \"Fake\" class.\n",
    "F1-score is higher for the \"Fake\" class, indicating a better balance between precision and recall compared to logistic regression.\n",
    "The random forest model outperforms logistic regression in terms of accuracy and F1-score."
   ]
  },
  {
   "cell_type": "markdown",
   "id": "45f8c54d",
   "metadata": {},
   "source": [
    "# References\n",
    "Liu, Y., & Wu, Y.-F. (2018). Early Detection of Fake News on Social Media Through Propagation Path\n",
    "Classification with Recurrent and Convolutional Networks. Proceedings of the AAAI Conference on\n",
    "Artificial Intelligence, 32(1). https://doi.org/10.1609/aaai.v32i1.11268\n",
    "\n",
    "Aldwairi, M. & Alwahedi, A. (2018). Detecting fake news in social media networks.\n",
    "Procedia Computer Science, 141, 215–222. https://doi.org/10.1016/j.procs.2018.10.171"
   ]
  },
  {
   "cell_type": "code",
   "execution_count": null,
   "id": "9f2890a9",
   "metadata": {},
   "outputs": [],
   "source": []
  }
 ],
 "metadata": {
  "kernelspec": {
   "display_name": "Python 3",
   "language": "python",
   "name": "python3"
  },
  "language_info": {
   "codemirror_mode": {
    "name": "ipython",
    "version": 3
   },
   "file_extension": ".py",
   "mimetype": "text/x-python",
   "name": "python",
   "nbconvert_exporter": "python",
   "pygments_lexer": "ipython3",
   "version": "3.8.10"
  }
 },
 "nbformat": 4,
 "nbformat_minor": 5
}
